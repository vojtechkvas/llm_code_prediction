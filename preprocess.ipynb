{
 "cells": [
  {
   "cell_type": "markdown",
   "metadata": {},
   "source": [
    "# Data preprocess internship\n"
   ]
  },
  {
   "cell_type": "code",
   "execution_count": null,
   "metadata": {},
   "outputs": [],
   "source": [
    "import os\n",
    "import random\n",
    "import json\n",
    "import matplotlib.pyplot as plt\n",
    "from pathlib import Path\n",
    "import numpy as np\n",
    "\n",
    "\n",
    "def get_java_files(base_path):\n",
    "    \"\"\"Recursively collect all .java files from the given directory.\"\"\"\n",
    "    return list(Path(base_path).rglob(\"*.java\"))\n",
    "\n",
    "\n",
    "def extract_code_samples(files, num_samples=50, min_chars_before=50, max_chars=200, seed=42):\n",
    "    \"\"\"\n",
    "    Extracts code samples by splitting files into prefix, middle, and suffix.\n",
    "    \n",
    "    Parameters:\n",
    "    - files: List of file paths to process.\n",
    "    - num_samples: Number of samples to extract.\n",
    "    - min_chars_before: Minimum number of characters before the missing code.\n",
    "    - max_chars: Maximum length of the missing code.\n",
    "    - seed: Random seed for reproducibility.\n",
    "    \n",
    "    Returns:\n",
    "    - samples: A list of dictionaries containing prefix, middle, and suffix.\n",
    "    - positions: A list of tuples containing (start, end, total length) for analysis.\n",
    "    \"\"\"\n",
    "\n",
    "    random.seed(seed)\n",
    "\n",
    "    samples = []\n",
    "    positions = []\n",
    "\n",
    "    random.shuffle(files)\n",
    "\n",
    "    for i in range(num_samples):\n",
    "        with open(files[i], \"r\", encoding=\"utf-8\") as f:\n",
    "            content = f.read()\n",
    "            if len(content) < 200:\n",
    "                i = i - 1\n",
    "                continue\n",
    "\n",
    "            start = random.randint(0, max(0, len(content) - max_chars))\n",
    "            end = min(start + random.randint(min_chars_before, max_chars), len(content))\n",
    "\n",
    "            prefix = content[:start]\n",
    "            middle = content[start:end]\n",
    "            suffix = content[end:]\n",
    "\n",
    "            samples.append({\"filename\": str(files[i]), \"prefix\": prefix, \"middle\": middle, \"suffix\": suffix})\n",
    "\n",
    "            positions.append((start, end, len(content)))\n",
    "\n",
    "    return samples, positions\n",
    "\n",
    "\n",
    "repo_path = os.path.expanduser(\"data/member\")\n",
    "java_files = get_java_files(repo_path)\n",
    "code_samples, positions = extract_code_samples(java_files)"
   ]
  },
  {
   "cell_type": "markdown",
   "metadata": {},
   "source": [
    "Save samples to file\n"
   ]
  },
  {
   "cell_type": "code",
   "execution_count": null,
   "metadata": {},
   "outputs": [],
   "source": [
    "with open(\"code_completion_dataset.json\", \"w\", encoding=\"utf-8\") as f:\n",
    "    json.dump(code_samples, f, indent=4)"
   ]
  },
  {
   "cell_type": "markdown",
   "metadata": {},
   "source": [
    "Display sample graphs\n"
   ]
  },
  {
   "cell_type": "code",
   "execution_count": null,
   "metadata": {},
   "outputs": [],
   "source": [
    "def plot_positions(positions):\n",
    "\n",
    "    abs_lengths = [e - s for s, e, _ in positions]\n",
    "    absolute_chars_before = [s for s, _, _ in positions]\n",
    "    absolute_chars_after = [l - e for _, e, l in positions]\n",
    "\n",
    "    sample_indices = np.arange(1, len(positions) + 1)\n",
    "    width = 0.3\n",
    "\n",
    "    plt.figure(figsize=(20, 6))\n",
    "    plt.bar(\n",
    "        sample_indices - 1.5 * width,\n",
    "        abs_lengths,\n",
    "        width,\n",
    "        label=\"Middle Section Length\",\n",
    "        color=\"blue\",\n",
    "    )\n",
    "    plt.bar(\n",
    "        sample_indices - width / 2,\n",
    "        absolute_chars_before,\n",
    "        width,\n",
    "        label=\"Start Position\",\n",
    "        color=\"green\",\n",
    "    )\n",
    "    plt.bar(\n",
    "        sample_indices + width / 2,\n",
    "        absolute_chars_after,\n",
    "        width,\n",
    "        label=\"End Position\",\n",
    "        color=\"red\",\n",
    "    )\n",
    "\n",
    "    plt.xlabel(\"Sample Index\")\n",
    "\n",
    "    plt.ylabel(\"Character Position (log scale)\")\n",
    "\n",
    "    plt.title(\"Start and End Character Positions in Code Samples\")\n",
    "\n",
    "    plt.yscale(\"log\")\n",
    "\n",
    "    plt.xticks(sample_indices)\n",
    "    plt.grid(True, which=\"both\", ls=\"-\", alpha=0.5)\n",
    "\n",
    "    plt.show()"
   ]
  },
  {
   "cell_type": "code",
   "execution_count": null,
   "metadata": {},
   "outputs": [],
   "source": [
    "plot_positions(positions)"
   ]
  }
 ],
 "metadata": {
  "kaggle": {
   "accelerator": "none",
   "dataSources": [],
   "dockerImageVersionId": 30786,
   "isGpuEnabled": false,
   "isInternetEnabled": true,
   "language": "python",
   "sourceType": "notebook"
  },
  "kernelspec": {
   "display_name": "Python 3",
   "language": "python",
   "name": "python3"
  },
  "language_info": {
   "codemirror_mode": {
    "name": "ipython",
    "version": 3
   },
   "file_extension": ".py",
   "mimetype": "text/x-python",
   "name": "python",
   "nbconvert_exporter": "python",
   "pygments_lexer": "ipython3",
   "version": "3.10.12"
  }
 },
 "nbformat": 4,
 "nbformat_minor": 4
}
